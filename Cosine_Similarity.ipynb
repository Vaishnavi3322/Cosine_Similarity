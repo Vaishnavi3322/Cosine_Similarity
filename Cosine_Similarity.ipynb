{
  "nbformat": 4,
  "nbformat_minor": 0,
  "metadata": {
    "colab": {
      "provenance": [],
      "authorship_tag": "ABX9TyO31uOOO44r7pYibiE7nCGg",
      "include_colab_link": true
    },
    "kernelspec": {
      "name": "python3",
      "display_name": "Python 3"
    },
    "language_info": {
      "name": "python"
    }
  },
  "cells": [
    {
      "cell_type": "markdown",
      "metadata": {
        "id": "view-in-github",
        "colab_type": "text"
      },
      "source": [
        "<a href=\"https://colab.research.google.com/github/Vaishnavi3322/Cosine_Similarity/blob/main/Cosine_Similarity.ipynb\" target=\"_parent\"><img src=\"https://colab.research.google.com/assets/colab-badge.svg\" alt=\"Open In Colab\"/></a>"
      ]
    },
    {
      "cell_type": "markdown",
      "source": [
        "-----\n",
        "## **Cosine Similarity**\n",
        "-----"
      ],
      "metadata": {
        "id": "zhX_aLuRfRfl"
      }
    },
    {
      "cell_type": "markdown",
      "source": [
        "----\n",
        "#### **Installing Important Libraries**\n",
        "----"
      ],
      "metadata": {
        "id": "DIQK9QlJfdSM"
      }
    },
    {
      "cell_type": "code",
      "execution_count": null,
      "metadata": {
        "id": "MlorzasOODC4"
      },
      "outputs": [],
      "source": [
        "!pip install pandas\n",
        "!pip install sklearn"
      ]
    },
    {
      "cell_type": "markdown",
      "source": [
        "----\n",
        "#### **Importing Libraries**\n",
        "----"
      ],
      "metadata": {
        "id": "Ja6WOH7Jfl9Y"
      }
    },
    {
      "cell_type": "code",
      "source": [
        "import pandas as pd\n",
        "\n",
        "data = {'Cloth': [1,2,3],\n",
        "      'Quality': [4,2,4]}   # Defining Data\n",
        "\n",
        "df = pd.DataFrame(data, columns = ['Cloth', 'Quality'])\n",
        "\n",
        "print(df)"
      ],
      "metadata": {
        "colab": {
          "base_uri": "https://localhost:8080/"
        },
        "id": "DchlAdIVOVfu",
        "outputId": "7cc0156a-904a-49ea-8ba6-1cb7d9c98ea7"
      },
      "execution_count": null,
      "outputs": [
        {
          "output_type": "stream",
          "name": "stdout",
          "text": [
            "   Cloth  Quality\n",
            "0      1        4\n",
            "1      2        2\n",
            "2      3        4\n"
          ]
        }
      ]
    },
    {
      "cell_type": "markdown",
      "source": [
        "----\n",
        "## **Cosine Similarities**\n",
        "----"
      ],
      "metadata": {
        "id": "pQPYOtcAf6uV"
      }
    },
    {
      "cell_type": "code",
      "source": [
        "from sklearn.metrics.pairwise import cosine_similarity # Importing sklearn library\n",
        "\n",
        "similarity = cosine_similarity(df)\n",
        "\n",
        "print(similarity)"
      ],
      "metadata": {
        "colab": {
          "base_uri": "https://localhost:8080/"
        },
        "id": "D9eBtzs3OVcM",
        "outputId": "1afed0ec-5ca4-49fb-ef5d-4229485ea682"
      },
      "execution_count": null,
      "outputs": [
        {
          "output_type": "stream",
          "name": "stdout",
          "text": [
            "[[1.         0.85749293 0.92163538]\n",
            " [0.85749293 1.         0.98994949]\n",
            " [0.92163538 0.98994949 1.        ]]\n"
          ]
        }
      ]
    }
  ]
}